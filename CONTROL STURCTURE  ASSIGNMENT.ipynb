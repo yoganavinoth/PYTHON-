{
 "cells": [
  {
   "cell_type": "markdown",
   "metadata": {},
   "source": [
    "ASSIGNMENT-1"
   ]
  },
  {
   "cell_type": "markdown",
   "metadata": {},
   "source": [
    "A)"
   ]
  },
  {
   "cell_type": "code",
   "execution_count": null,
   "metadata": {},
   "outputs": [],
   "source": [
    "num1=10\n",
    "num2=30\n",
    "add=40"
   ]
  },
  {
   "cell_type": "code",
   "execution_count": 1,
   "metadata": {},
   "outputs": [
    {
     "name": "stdout",
     "output_type": "stream",
     "text": [
      "add\n",
      "40\n"
     ]
    }
   ],
   "source": [
    "num1=10\n",
    "num2=30\n",
    "add=40\n",
    "print(\"add\")\n",
    "print(add)"
   ]
  },
  {
   "cell_type": "markdown",
   "metadata": {},
   "source": [
    "B)"
   ]
  },
  {
   "cell_type": "code",
   "execution_count": null,
   "metadata": {},
   "outputs": [],
   "source": [
    "#body mass index"
   ]
  },
  {
   "cell_type": "code",
   "execution_count": null,
   "metadata": {},
   "outputs": [],
   "source": [
    "if():\n",
    "    print()\n",
    "elif():\n",
    "    print()\n",
    "elif():\n",
    "    print()\n",
    "else:\n",
    "    print()\n"
   ]
  },
  {
   "cell_type": "markdown",
   "metadata": {},
   "source": [
    "weight<=18.5-->under weight\n",
    "weight<=24.9-->normal weight\n",
    "weight<=29.9-->over weight\n",
    "weight>=30.0-->very overweight\n"
   ]
  },
  {
   "cell_type": "code",
   "execution_count": 2,
   "metadata": {},
   "outputs": [
    {
     "name": "stdout",
     "output_type": "stream",
     "text": [
      "Enter the weight:17\n"
     ]
    }
   ],
   "source": [
    "weight=int(input(\"Enter the weight:\"))"
   ]
  },
  {
   "cell_type": "code",
   "execution_count": 3,
   "metadata": {},
   "outputs": [
    {
     "name": "stdout",
     "output_type": "stream",
     "text": [
      "under weight\n"
     ]
    }
   ],
   "source": [
    "if(weight<=18.5):\n",
    "    print(\"under weight\")\n",
    "elif(weight<=24.9):\n",
    "    print(\"normal weight\")\n",
    "elif(weight<=29.9):\n",
    "    print(\"over weight\")\n",
    "else:\n",
    "    print(\"very overweight\")\n",
    "    "
   ]
  },
  {
   "cell_type": "code",
   "execution_count": null,
   "metadata": {},
   "outputs": [],
   "source": [
    "if():\n",
    "    print()\n",
    "elif():\n",
    "    print()\n",
    "elif():\n",
    "    print()\n",
    "else:\n",
    "    print()"
   ]
  },
  {
   "cell_type": "markdown",
   "metadata": {},
   "source": [
    "weight<=18.5-->under weight\n",
    "weight<=24.9-->normal weight\n",
    "weight<=29.9-->over weight\n",
    "weight>=30.0-->very overweight\n"
   ]
  },
  {
   "cell_type": "code",
   "execution_count": 4,
   "metadata": {},
   "outputs": [
    {
     "name": "stdout",
     "output_type": "stream",
     "text": [
      "Enter the weight:22\n"
     ]
    }
   ],
   "source": [
    "weight=int(input(\"Enter the weight:\"))"
   ]
  },
  {
   "cell_type": "code",
   "execution_count": 5,
   "metadata": {},
   "outputs": [
    {
     "name": "stdout",
     "output_type": "stream",
     "text": [
      "normal weight\n"
     ]
    }
   ],
   "source": [
    "if(weight<=18.5):\n",
    "    print(\"under weight\")\n",
    "elif(weight<=24.9):\n",
    "    print(\"normal weight\")\n",
    "elif(weight<=29.9):\n",
    "    print(\"over weight\")\n",
    "else:\n",
    "    print(\"very overweight\")\n",
    "    "
   ]
  },
  {
   "cell_type": "code",
   "execution_count": null,
   "metadata": {},
   "outputs": [],
   "source": [
    "if():\n",
    "    print()\n",
    "elif():\n",
    "    print()\n",
    "elif():\n",
    "    print()\n",
    "else:\n",
    "    print()"
   ]
  },
  {
   "cell_type": "markdown",
   "metadata": {},
   "source": [
    "weight<=18.5-->under weight\n",
    "weight<=24.9-->normal weight\n",
    "weight<=29.9-->over weight\n",
    "weight>=30.0-->very overweight\n"
   ]
  },
  {
   "cell_type": "code",
   "execution_count": 6,
   "metadata": {},
   "outputs": [
    {
     "name": "stdout",
     "output_type": "stream",
     "text": [
      "Enter the weight:26\n"
     ]
    }
   ],
   "source": [
    "weight=int(input(\"Enter the weight:\"))"
   ]
  },
  {
   "cell_type": "code",
   "execution_count": 7,
   "metadata": {},
   "outputs": [
    {
     "name": "stdout",
     "output_type": "stream",
     "text": [
      "over weight\n"
     ]
    }
   ],
   "source": [
    "if(weight<=18.5):\n",
    "    print(\"under weight\")\n",
    "elif(weight<=24.9):\n",
    "    print(\"normal weight\")\n",
    "elif(weight<=29.9):\n",
    "    print(\"over weight\")\n",
    "else:\n",
    "    print(\"very overweight\")\n",
    "    "
   ]
  },
  {
   "cell_type": "code",
   "execution_count": null,
   "metadata": {},
   "outputs": [],
   "source": [
    "if():\n",
    "    print()\n",
    "elif():\n",
    "    print()\n",
    "elif():\n",
    "    print()\n",
    "else:\n",
    "    print()"
   ]
  },
  {
   "cell_type": "markdown",
   "metadata": {},
   "source": [
    "weight<=18.5-->under weight\n",
    "weight<=24.9-->normal weight\n",
    "weight<=29.9-->over weight\n",
    "weight>=30.0-->very overweight\n"
   ]
  },
  {
   "cell_type": "code",
   "execution_count": 8,
   "metadata": {},
   "outputs": [
    {
     "name": "stdout",
     "output_type": "stream",
     "text": [
      "Enter the weight:35\n"
     ]
    }
   ],
   "source": [
    "weight=int(input(\"Enter the weight:\"))"
   ]
  },
  {
   "cell_type": "code",
   "execution_count": 9,
   "metadata": {},
   "outputs": [
    {
     "name": "stdout",
     "output_type": "stream",
     "text": [
      "very overweight\n"
     ]
    }
   ],
   "source": [
    "if(weight<=18.5):\n",
    "    print(\"under weight\")\n",
    "elif(weight<=24.9):\n",
    "    print(\"normal weight\")\n",
    "elif(weight<=29.9):\n",
    "    print(\"over weight\")\n",
    "else:\n",
    "    print(\"very overweight\")\n",
    "    "
   ]
  },
  {
   "cell_type": "code",
   "execution_count": null,
   "metadata": {},
   "outputs": [],
   "source": []
  }
 ],
 "metadata": {
  "kernelspec": {
   "display_name": "Python 3",
   "language": "python",
   "name": "python3"
  },
  "language_info": {
   "codemirror_mode": {
    "name": "ipython",
    "version": 3
   },
   "file_extension": ".py",
   "mimetype": "text/x-python",
   "name": "python",
   "nbconvert_exporter": "python",
   "pygments_lexer": "ipython3",
   "version": "3.7.4"
  }
 },
 "nbformat": 4,
 "nbformat_minor": 2
}
