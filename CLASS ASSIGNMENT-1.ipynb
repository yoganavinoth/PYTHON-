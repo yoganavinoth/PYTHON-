{
 "cells": [
  {
   "cell_type": "code",
   "execution_count": 1,
   "metadata": {},
   "outputs": [],
   "source": [
    "#create class"
   ]
  },
  {
   "cell_type": "code",
   "execution_count": 2,
   "metadata": {},
   "outputs": [],
   "source": [
    "class SubfieldsInAI():\n",
    "    def subfields():\n",
    "        input=\"Sub-fields in AI are:\"\n",
    "        subfields=[\"Machinelearning\" , \"Neural networks\" , \"Vision\", \"Robotics\", \"Speech processing\" ,\"Natural language processing\"]\n",
    "        print(input)\n",
    "        for i in subfields:\n",
    "             print(i)"
   ]
  },
  {
   "cell_type": "code",
   "execution_count": 3,
   "metadata": {},
   "outputs": [
    {
     "name": "stdout",
     "output_type": "stream",
     "text": [
      "Sub-fields in AI are:\n",
      "Machinelearning\n",
      "Neural networks\n",
      "Vision\n",
      "Robotics\n",
      "Speech processing\n",
      "Natural language processing\n"
     ]
    }
   ],
   "source": [
    "SubfieldsInAI.subfields()"
   ]
  },
  {
   "cell_type": "code",
   "execution_count": 4,
   "metadata": {},
   "outputs": [],
   "source": [
    "#create class\n"
   ]
  },
  {
   "cell_type": "code",
   "execution_count": 5,
   "metadata": {},
   "outputs": [],
   "source": [
    "class OddEven():\n",
    "    def OddEven():\n",
    "        num=int(input(\"Enter a number:\"))\n",
    "        if((num%2)==0):\n",
    "            print(\"52452 is Even number\")\n",
    "            number=\"52452 is Even number\"\n",
    "        else:   \n",
    "            print(\"52452 is odd number\")\n",
    "            number=\"52452 is odd number\"\n",
    "        return number    \n",
    "            \n",
    "  \n",
    "        \n",
    "    "
   ]
  },
  {
   "cell_type": "code",
   "execution_count": 6,
   "metadata": {},
   "outputs": [
    {
     "name": "stdout",
     "output_type": "stream",
     "text": [
      "Enter a number:52452\n",
      "52452 is Even number\n"
     ]
    },
    {
     "data": {
      "text/plain": [
       "'52452 is Even number'"
      ]
     },
     "execution_count": 6,
     "metadata": {},
     "output_type": "execute_result"
    }
   ],
   "source": [
    "OddEven.OddEven()"
   ]
  },
  {
   "cell_type": "code",
   "execution_count": 7,
   "metadata": {},
   "outputs": [],
   "source": [
    "#create class"
   ]
  },
  {
   "cell_type": "code",
   "execution_count": 15,
   "metadata": {},
   "outputs": [],
   "source": [
    "class EligibilityForMarriage():\n",
    "    def Eligible():\n",
    "        gender=input(\"Your Gender:\")\n",
    "        age=int(input(\"Your Age:\"))\n",
    "        if(gender==\"Male\"):\n",
    "            if(age<21):\n",
    "                print(\"NOT ELIGIBLE\")\n",
    "            else:\n",
    "                print(\"ELIGIBLE\")\n",
    "        else:\n",
    "            if(age<18):\n",
    "                print(\"NOT ELIGIBLE\")\n",
    "            else:      \n",
    "                print(\"ELIGIBLE\")\n",
    "              \n",
    "            "
   ]
  },
  {
   "cell_type": "code",
   "execution_count": 16,
   "metadata": {},
   "outputs": [
    {
     "name": "stdout",
     "output_type": "stream",
     "text": [
      "Your Gender:Male\n",
      "Your Age:18\n",
      "NOT ELIGIBLE\n"
     ]
    }
   ],
   "source": [
    "EligibilityForMarriage.Eligible()"
   ]
  },
  {
   "cell_type": "code",
   "execution_count": 17,
   "metadata": {},
   "outputs": [],
   "source": [
    "#create class"
   ]
  },
  {
   "cell_type": "code",
   "execution_count": 3,
   "metadata": {},
   "outputs": [],
   "source": [
    "class FindPercent():\n",
    "    def percentage():\n",
    "        sub1=int(input(\"Subject1=\"))\n",
    "        sub2=int(input(\"Subject2=\"))\n",
    "        sub3=int(input(\"Subject3=\"))\n",
    "        sub4=int(input(\"Subject4=\"))\n",
    "        sub5=int(input(\"Subject5=\"))\n",
    "        total=sub1+sub2+sub3+sub4+sub5\n",
    "        print(\"Total :\",total)\n",
    "        message=\"Total:\",total\n",
    "        print(\"Percentage :\",total/5)\n",
    "        message=\"Percentage:\",total/5\n",
    "        return message"
   ]
  },
  {
   "cell_type": "code",
   "execution_count": 4,
   "metadata": {},
   "outputs": [
    {
     "name": "stdout",
     "output_type": "stream",
     "text": [
      "Subject1=98\n",
      "Subject2=87\n",
      "Subject3=95\n",
      "Subject4=95\n",
      "Subject5=93\n",
      "Total : 468\n",
      "Percentage : 93.6\n"
     ]
    },
    {
     "data": {
      "text/plain": [
       "('Percentage:', 93.6)"
      ]
     },
     "execution_count": 4,
     "metadata": {},
     "output_type": "execute_result"
    }
   ],
   "source": [
    "FindPercent.percentage()"
   ]
  },
  {
   "cell_type": "code",
   "execution_count": 5,
   "metadata": {},
   "outputs": [],
   "source": [
    "#create class"
   ]
  },
  {
   "cell_type": "code",
   "execution_count": 1,
   "metadata": {},
   "outputs": [],
   "source": [
    "class triangle():\n",
    "    def triangle():\n",
    "        hgt=int(input(\"Height :\"))\n",
    "        bdh=int(input(\"Breadth :\"))\n",
    "        print(\"Area of Triangle :\",(hgt*bdh)/2)\n",
    "        message=\"Area of Triangle\"\n",
    "        hgt1=int(input(\"Height1 :\"))\n",
    "        hgt2=int(input(\"Height2 :\"))\n",
    "        bdh1=int(input(\"Breadth :\"))\n",
    "        print(\"Perimeter of Triangle :\",hgt1+hgt2+bdh1)\n",
    "        message=\"Perimeter of Triangle :\",hgt1+hgt2+bdh1\n",
    "        return message\n"
   ]
  },
  {
   "cell_type": "code",
   "execution_count": 2,
   "metadata": {},
   "outputs": [
    {
     "name": "stdout",
     "output_type": "stream",
     "text": [
      "Height :32\n",
      "Breadth :34\n",
      "Area of Triangle : 544.0\n",
      "Height1 :2\n",
      "Height2 :4\n",
      "Breadth :4\n",
      "Perimeter of Triangle : 10\n"
     ]
    },
    {
     "data": {
      "text/plain": [
       "('Perimeter of Triangle :', 10)"
      ]
     },
     "execution_count": 2,
     "metadata": {},
     "output_type": "execute_result"
    }
   ],
   "source": [
    "triangle. triangle()"
   ]
  },
  {
   "cell_type": "code",
   "execution_count": null,
   "metadata": {},
   "outputs": [],
   "source": []
  }
 ],
 "metadata": {
  "kernelspec": {
   "display_name": "Python 3",
   "language": "python",
   "name": "python3"
  },
  "language_info": {
   "codemirror_mode": {
    "name": "ipython",
    "version": 3
   },
   "file_extension": ".py",
   "mimetype": "text/x-python",
   "name": "python",
   "nbconvert_exporter": "python",
   "pygments_lexer": "ipython3",
   "version": "3.7.4"
  }
 },
 "nbformat": 4,
 "nbformat_minor": 2
}
