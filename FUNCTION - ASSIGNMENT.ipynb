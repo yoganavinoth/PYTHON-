{
 "cells": [
  {
   "cell_type": "markdown",
   "metadata": {},
   "source": [
    "FUNCTION -ASSIGNMENT"
   ]
  },
  {
   "cell_type": "code",
   "execution_count": null,
   "metadata": {},
   "outputs": [],
   "source": [
    "#create function"
   ]
  },
  {
   "cell_type": "code",
   "execution_count": 1,
   "metadata": {},
   "outputs": [
    {
     "name": "stdout",
     "output_type": "stream",
     "text": [
      "Machinelearning\n",
      "Neural networks\n",
      "Vision\n",
      "Robotics\n",
      "Speech processing\n",
      "Natural language processing\n"
     ]
    }
   ],
   "source": [
    "subfields=[\"Machinelearning\",\"Neural networks\",\"Vision\",\"Robotics\",\"Speech processing\",\"Natural language processing\"]\n",
    "input=(\"Subfields in AI are:\")\n",
    "for i in subfields:         \n",
    "    print(i)\n",
    "    \n"
   ]
  },
  {
   "cell_type": "code",
   "execution_count": 1,
   "metadata": {},
   "outputs": [],
   "source": [
    "def subfields():\n",
    "    input=\"Sub-fields in AI are:\"\n",
    "    subfields=[\"Machinelearning\" , \"Neural networks\" , \"Vision\", \"Robotics\", \"Speech processing\" ,\"Natural language processing\"]\n",
    "    print(input)\n",
    "    for i in subfields:\n",
    "        print(i)"
   ]
  },
  {
   "cell_type": "code",
   "execution_count": 2,
   "metadata": {},
   "outputs": [
    {
     "name": "stdout",
     "output_type": "stream",
     "text": [
      "Sub-fields in AI are:\n",
      "Machinelearning\n",
      "Neural networks\n",
      "Vision\n",
      "Robotics\n",
      "Speech processing\n",
      "Natural language processing\n"
     ]
    }
   ],
   "source": [
    "subfields()"
   ]
  },
  {
   "cell_type": "code",
   "execution_count": null,
   "metadata": {},
   "outputs": [],
   "source": [
    "#create function"
   ]
  },
  {
   "cell_type": "code",
   "execution_count": 1,
   "metadata": {},
   "outputs": [
    {
     "name": "stdout",
     "output_type": "stream",
     "text": [
      "Enter a number:4\n"
     ]
    }
   ],
   "source": [
    "num=int(input(\"Enter a number:\"))"
   ]
  },
  {
   "cell_type": "code",
   "execution_count": 2,
   "metadata": {},
   "outputs": [
    {
     "name": "stdout",
     "output_type": "stream",
     "text": [
      "4 is Even number\n"
     ]
    }
   ],
   "source": [
    "if((num%2)==0):\n",
    "    print(\"4 is Even number\")\n",
    "else:\n",
    "    print(\"4 is odd number\")"
   ]
  },
  {
   "cell_type": "code",
   "execution_count": 3,
   "metadata": {},
   "outputs": [],
   "source": [
    "def OddEven():\n",
    "    num=int(input(\"Enter a number:\"))\n",
    "    if((num%2)==0):\n",
    "        print(\"4 is Even number\")\n",
    "        message=\"4 is Even number\"\n",
    "    else:\n",
    "        print(\"4 is odd number\")\n",
    "        message=\"4 is odd number\"\n",
    "    return message"
   ]
  },
  {
   "cell_type": "code",
   "execution_count": 4,
   "metadata": {},
   "outputs": [
    {
     "name": "stdout",
     "output_type": "stream",
     "text": [
      "Enter a number:4\n",
      "4 is Even number\n"
     ]
    },
    {
     "data": {
      "text/plain": [
       "'4 is Even number'"
      ]
     },
     "execution_count": 4,
     "metadata": {},
     "output_type": "execute_result"
    }
   ],
   "source": [
    " OddEven()"
   ]
  },
  {
   "cell_type": "code",
   "execution_count": null,
   "metadata": {},
   "outputs": [],
   "source": [
    "#create function"
   ]
  },
  {
   "cell_type": "code",
   "execution_count": null,
   "metadata": {},
   "outputs": [],
   "source": [
    "if():\n",
    "    print()\n",
    "else:\n",
    "    print()\n",
    "    "
   ]
  },
  {
   "cell_type": "markdown",
   "metadata": {},
   "source": [
    "male marriage age is 21 ,\n",
    "female marriage age is 18\n"
   ]
  },
  {
   "cell_type": "code",
   "execution_count": 1,
   "metadata": {},
   "outputs": [
    {
     "name": "stdout",
     "output_type": "stream",
     "text": [
      "Your Gender:Male\n",
      "Your Age:18\n",
      "NOT ELIGIBLE\n"
     ]
    }
   ],
   "source": [
    "\n",
    "Gender=input(\"Your Gender:\")\n",
    "age=int(input(\"Your Age:\"))\n",
    "if((age)<=21):\n",
    "    print(\"NOT ELIGIBLE\")\n",
    "else:\n",
    "    print(\"ELIGIBLE\")\n"
   ]
  },
  {
   "cell_type": "code",
   "execution_count": 1,
   "metadata": {},
   "outputs": [],
   "source": [
    "def Eligible():\n",
    "    Gender=input(\"Your Gender:\")\n",
    "    age=int(input(\"Your Age:\"))\n",
    "    if((age)<=21):\n",
    "        print(\"NOT ELIGIBLE\")\n",
    "        message=\"NOT ELIGIBLE\"\n",
    "    else:\n",
    "        print(\"ELIGIBLE\")\n",
    "        message=\"ELIGIBLE\"\n",
    "    return message   "
   ]
  },
  {
   "cell_type": "code",
   "execution_count": 2,
   "metadata": {},
   "outputs": [
    {
     "name": "stdout",
     "output_type": "stream",
     "text": [
      "Your Gender:Male\n",
      "Your Age:18\n",
      "NOT ELIGIBLE\n"
     ]
    },
    {
     "data": {
      "text/plain": [
       "'NOT ELIGIBLE'"
      ]
     },
     "execution_count": 2,
     "metadata": {},
     "output_type": "execute_result"
    }
   ],
   "source": [
    "Eligible()"
   ]
  },
  {
   "cell_type": "code",
   "execution_count": null,
   "metadata": {},
   "outputs": [],
   "source": [
    "#create function"
   ]
  },
  {
   "cell_type": "code",
   "execution_count": null,
   "metadata": {},
   "outputs": [],
   "source": [
    "if():\n",
    "    print()\n"
   ]
  },
  {
   "cell_type": "code",
   "execution_count": 1,
   "metadata": {},
   "outputs": [
    {
     "name": "stdout",
     "output_type": "stream",
     "text": [
      "Subject1=23\n",
      "Subject2=45\n",
      "Subject3=34\n",
      "Subject4=23\n",
      "Subject5=23\n",
      "Total: 148\n",
      "Percentage : 29.6\n"
     ]
    }
   ],
   "source": [
    "sub1=int(input(\"Subject1=\"))\n",
    "sub2=int(input(\"Subject2=\"))\n",
    "sub3=int(input(\"Subject3=\"))\n",
    "sub4=int(input(\"Subject4=\"))\n",
    "sub5=int(input(\"Subject5=\"))\n",
    "total=sub1+sub2+sub3+sub4+sub5\n",
    "print(\"Total:\",total)\n",
    "print(\"Percentage :\",total/5)"
   ]
  },
  {
   "cell_type": "code",
   "execution_count": 1,
   "metadata": {},
   "outputs": [],
   "source": [
    "def percentage():\n",
    "    sub1=int(input(\"Subject1=\"))\n",
    "    sub2=int(input(\"Subject2=\"))\n",
    "    sub3=int(input(\"Subject3=\"))\n",
    "    sub4=int(input(\"Subject4=\"))\n",
    "    sub5=int(input(\"Subject5=\"))\n",
    "    total=sub1+sub2+sub3+sub4+sub5\n",
    "    print(\"Total :\",total)\n",
    "    message=\"Total:\",total\n",
    "    print(\"Percentage :\",total/5)\n",
    "    message=\"Percentage:\",total/5\n",
    "    return message"
   ]
  },
  {
   "cell_type": "code",
   "execution_count": 2,
   "metadata": {},
   "outputs": [
    {
     "name": "stdout",
     "output_type": "stream",
     "text": [
      "Subject1=23\n",
      "Subject2=45\n",
      "Subject3=34\n",
      "Subject4=23\n",
      "Subject5=23\n",
      "Total : 148\n",
      "Percentage : 29.6\n"
     ]
    },
    {
     "data": {
      "text/plain": [
       "('Percentage:', 29.6)"
      ]
     },
     "execution_count": 2,
     "metadata": {},
     "output_type": "execute_result"
    }
   ],
   "source": [
    "percentage()"
   ]
  },
  {
   "cell_type": "code",
   "execution_count": null,
   "metadata": {},
   "outputs": [],
   "source": [
    "#create function"
   ]
  },
  {
   "cell_type": "code",
   "execution_count": null,
   "metadata": {},
   "outputs": [],
   "source": [
    "if():\n",
    "    print()"
   ]
  },
  {
   "cell_type": "code",
   "execution_count": 2,
   "metadata": {},
   "outputs": [
    {
     "name": "stdout",
     "output_type": "stream",
     "text": [
      "Height :3\n",
      "Breadth :4\n",
      "Area of Triangle : 6.0\n",
      "Height1 :3\n",
      "Height2 :4\n",
      "Breadth :45\n",
      "Perimeter of Triangle : 52\n"
     ]
    }
   ],
   "source": [
    "hgt=int(input(\"Height :\"))\n",
    "bdh=int(input(\"Breadth :\"))\n",
    "print(\"Area of Triangle :\",(hgt*bdh)/2)\n",
    "hgt1=int(input(\"Height1 :\"))\n",
    "hgt2=int(input(\"Height2 :\"))\n",
    "bdh1=int(input(\"Breadth :\"))\n",
    "print(\"Perimeter of Triangle :\",hgt1+hgt2+bdh1)\n",
    "    \n"
   ]
  },
  {
   "cell_type": "code",
   "execution_count": 1,
   "metadata": {},
   "outputs": [],
   "source": [
    "def triangle():\n",
    "    hgt=int(input(\"Height :\"))\n",
    "    bdh=int(input(\"Breadth :\"))\n",
    "    print(\"Area of Triangle :\",(hgt*bdh)/2)\n",
    "    message=\"Area of Triangle\"\n",
    "    hgt1=int(input(\"Height1 :\"))\n",
    "    hgt2=int(input(\"Height2 :\"))\n",
    "    bdh1=int(input(\"Breadth :\"))\n",
    "    print(\"Perimeter of Triangle :\",hgt1+hgt2+bdh1)\n",
    "    message=\"Perimeter of Triangle :\",hgt1+hgt2+bdh1\n",
    "    return message\n"
   ]
  },
  {
   "cell_type": "code",
   "execution_count": 2,
   "metadata": {},
   "outputs": [
    {
     "name": "stdout",
     "output_type": "stream",
     "text": [
      "Height :3\n",
      "Breadth :4\n",
      "Area of Triangle : 6.0\n",
      "Height1 :3\n",
      "Height2 :4\n",
      "Breadth :45\n",
      "Perimeter of Triangle : 52\n"
     ]
    },
    {
     "data": {
      "text/plain": [
       "('Perimeter of Triangle :', 52)"
      ]
     },
     "execution_count": 2,
     "metadata": {},
     "output_type": "execute_result"
    }
   ],
   "source": [
    "triangle()"
   ]
  },
  {
   "cell_type": "code",
   "execution_count": null,
   "metadata": {},
   "outputs": [],
   "source": []
  }
 ],
 "metadata": {
  "kernelspec": {
   "display_name": "Python 3",
   "language": "python",
   "name": "python3"
  },
  "language_info": {
   "codemirror_mode": {
    "name": "ipython",
    "version": 3
   },
   "file_extension": ".py",
   "mimetype": "text/x-python",
   "name": "python",
   "nbconvert_exporter": "python",
   "pygments_lexer": "ipython3",
   "version": "3.7.4"
  }
 },
 "nbformat": 4,
 "nbformat_minor": 2
}
